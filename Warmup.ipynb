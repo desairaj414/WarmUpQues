{
 "cells": [
  {
   "cell_type": "code",
   "execution_count": 108,
   "metadata": {},
   "outputs": [
    {
     "name": "stdout",
     "output_type": "stream",
     "text": [
      "Direction\n",
      "U 14\n",
      "R 11\n",
      "I will reach in 18 steps ( 17.804493814764857 displament ),fuel for 36 steps availabe\n"
     ]
    }
   ],
   "source": [
    "vr=0\n",
    "hr=0\n",
    "xco=0\n",
    "yco=0\n",
    "\n",
    "fp=open(\"E:\\warmup.txt\",\"r\")\n",
    "fl=fp.readlines()\n",
    "\n",
    "for x in fl:\n",
    "    if x[0]=='U':\n",
    "        lt1,lt2=x.split(' ')\n",
    "        vr=vr+int(lt2)\n",
    "    elif x[0]=='D':\n",
    "        lt1,lt2=x.split(' ')\n",
    "        vr=vr-int(lt2)\n",
    "    elif x[0]=='R':\n",
    "        lt1,lt2=x.split(' ')\n",
    "        hr=hr+int(lt2)\n",
    "    elif x[0]=='L':\n",
    "        lt1,lt2=x.split(' ')\n",
    "        hr=hr-int(lt2)\n",
    "    elif x[0]=='F':\n",
    "        lt=x.split()\n",
    "        eff=int(lt[3])              \n",
    "\n",
    "import math\n",
    "dis=math.sqrt(vr*vr+hr*hr)\n",
    "print(\"Direction\")\n",
    "if(vr>0):\n",
    "    print('U',vr)\n",
    "else:\n",
    "    vr=-vr\n",
    "    print('D',vr)\n",
    "if(hr>0):\n",
    "    print('R',hr)\n",
    "else:\n",
    "    hr=-hr\n",
    "    print('L',hr)\n",
    "\n",
    "print(\"I will reach in\",math.ceil(dis),\"steps (\",dis,\"displament ),fuel for\",3*eff,\"steps availabe\")"
   ]
  }
 ],
 "metadata": {
  "kernelspec": {
   "display_name": "Python 3",
   "language": "python",
   "name": "python3"
  },
  "language_info": {
   "codemirror_mode": {
    "name": "ipython",
    "version": 3
   },
   "file_extension": ".py",
   "mimetype": "text/x-python",
   "name": "python",
   "nbconvert_exporter": "python",
   "pygments_lexer": "ipython3",
   "version": "3.7.3"
  }
 },
 "nbformat": 4,
 "nbformat_minor": 2
}
